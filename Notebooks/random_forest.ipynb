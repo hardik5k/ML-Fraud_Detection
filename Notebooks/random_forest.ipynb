{
 "cells": [
  {
   "cell_type": "code",
   "execution_count": 1,
   "id": "dd7d19a7",
   "metadata": {
    "_cell_guid": "b1076dfc-b9ad-4769-8c92-a6c4dae69d19",
    "_uuid": "8f2839f25d086af736a60e9eeb907d3b93b6e0e5",
    "execution": {
     "iopub.execute_input": "2022-11-20T05:17:11.814526Z",
     "iopub.status.busy": "2022-11-20T05:17:11.814099Z",
     "iopub.status.idle": "2022-11-20T05:17:17.112270Z",
     "shell.execute_reply": "2022-11-20T05:17:17.111256Z"
    },
    "papermill": {
     "duration": 5.306794,
     "end_time": "2022-11-20T05:17:17.114861",
     "exception": false,
     "start_time": "2022-11-20T05:17:11.808067",
     "status": "completed"
    },
    "tags": []
   },
   "outputs": [
    {
     "data": {
      "text/html": [
       "<style type='text/css'>\n",
       ".datatable table.frame { margin-bottom: 0; }\n",
       ".datatable table.frame thead { border-bottom: none; }\n",
       ".datatable table.frame tr.coltypes td {  color: #FFFFFF;  line-height: 6px;  padding: 0 0.5em;}\n",
       ".datatable .bool    { background: #DDDD99; }\n",
       ".datatable .object  { background: #565656; }\n",
       ".datatable .int     { background: #5D9E5D; }\n",
       ".datatable .float   { background: #4040CC; }\n",
       ".datatable .str     { background: #CC4040; }\n",
       ".datatable .time    { background: #40CC40; }\n",
       ".datatable .row_index {  background: var(--jp-border-color3);  border-right: 1px solid var(--jp-border-color0);  color: var(--jp-ui-font-color3);  font-size: 9px;}\n",
       ".datatable .frame tbody td { text-align: left; }\n",
       ".datatable .frame tr.coltypes .row_index {  background: var(--jp-border-color0);}\n",
       ".datatable th:nth-child(2) { padding-left: 12px; }\n",
       ".datatable .hellipsis {  color: var(--jp-cell-editor-border-color);}\n",
       ".datatable .vellipsis {  background: var(--jp-layout-color0);  color: var(--jp-cell-editor-border-color);}\n",
       ".datatable .na {  color: var(--jp-cell-editor-border-color);  font-size: 80%;}\n",
       ".datatable .sp {  opacity: 0.25;}\n",
       ".datatable .footer { font-size: 9px; }\n",
       ".datatable .frame_dimensions {  background: var(--jp-border-color3);  border-top: 1px solid var(--jp-border-color0);  color: var(--jp-ui-font-color3);  display: inline-block;  opacity: 0.6;  padding: 1px 10px 1px 5px;}\n",
       "</style>\n"
      ],
      "text/plain": [
       "<IPython.core.display.HTML object>"
      ]
     },
     "metadata": {},
     "output_type": "display_data"
    }
   ],
   "source": [
    "import numpy as np # linear algebra\n",
    "import pandas as pd # data processing, CSV file I/O (e.g. pd.read_csv)\n",
    "import matplotlib.pyplot as plt\n",
    "import seaborn as sns\n",
    "\n",
    "\n",
    "from sklearn import model_selection\n",
    "from sklearn.model_selection import train_test_split, StratifiedKFold\n",
    "from sklearn.linear_model import LogisticRegression\n",
    "from sklearn.ensemble import RandomForestClassifier\n",
    "from xgboost import XGBClassifier\n",
    "from lightgbm import LGBMClassifier\n",
    "from imblearn.over_sampling import RandomOverSampler\n",
    "from imblearn.under_sampling import RandomUnderSampler\n",
    "from sklearn.metrics import confusion_matrix,classification_report,accuracy_score,roc_auc_score, f1_score,plot_confusion_matrix,plot_roc_curve\n",
    "\n"
   ]
  },
  {
   "cell_type": "code",
   "execution_count": 2,
   "id": "499bc40b",
   "metadata": {
    "execution": {
     "iopub.execute_input": "2022-11-20T05:17:17.126249Z",
     "iopub.status.busy": "2022-11-20T05:17:17.125371Z",
     "iopub.status.idle": "2022-11-20T05:18:04.525463Z",
     "shell.execute_reply": "2022-11-20T05:18:04.524465Z"
    },
    "papermill": {
     "duration": 47.408391,
     "end_time": "2022-11-20T05:18:04.528301",
     "exception": false,
     "start_time": "2022-11-20T05:17:17.119910",
     "status": "completed"
    },
    "tags": []
   },
   "outputs": [],
   "source": [
    "import numpy as np \n",
    "import pandas as pd\n",
    "pd.set_option(\"display.max_rows\", None, \"display.max_columns\", None)\n",
    "\n",
    "train = pd.read_csv(\"../input/preprocessedfraud/train_preprocessed.csv\")\n",
    "test = pd.read_csv(\"../input/preprocessedfraud/test_preprocessed.csv\")"
   ]
  },
  {
   "cell_type": "code",
   "execution_count": 3,
   "id": "ab062f80",
   "metadata": {
    "execution": {
     "iopub.execute_input": "2022-11-20T05:18:04.537613Z",
     "iopub.status.busy": "2022-11-20T05:18:04.537281Z",
     "iopub.status.idle": "2022-11-20T05:18:04.541992Z",
     "shell.execute_reply": "2022-11-20T05:18:04.540987Z"
    },
    "papermill": {
     "duration": 0.011668,
     "end_time": "2022-11-20T05:18:04.544078",
     "exception": false,
     "start_time": "2022-11-20T05:18:04.532410",
     "status": "completed"
    },
    "tags": []
   },
   "outputs": [],
   "source": [
    "def submit(y_pred):\n",
    "    sample = pd.read_csv('../input/submissiontemplate/submission.csv')\n",
    "    sample.isFraud = y_pred\n",
    "    sub_name = 'submission.csv'\n",
    "    sample.to_csv(sub_name, index=False)"
   ]
  },
  {
   "cell_type": "code",
   "execution_count": 4,
   "id": "81ce0952",
   "metadata": {
    "execution": {
     "iopub.execute_input": "2022-11-20T05:18:04.552590Z",
     "iopub.status.busy": "2022-11-20T05:18:04.552315Z",
     "iopub.status.idle": "2022-11-20T05:18:04.566473Z",
     "shell.execute_reply": "2022-11-20T05:18:04.565639Z"
    },
    "papermill": {
     "duration": 0.020715,
     "end_time": "2022-11-20T05:18:04.568581",
     "exception": false,
     "start_time": "2022-11-20T05:18:04.547866",
     "status": "completed"
    },
    "tags": []
   },
   "outputs": [],
   "source": [
    "y = train[['isFraud']]"
   ]
  },
  {
   "cell_type": "code",
   "execution_count": 5,
   "id": "38fe14ce",
   "metadata": {
    "execution": {
     "iopub.execute_input": "2022-11-20T05:18:04.577672Z",
     "iopub.status.busy": "2022-11-20T05:18:04.576766Z",
     "iopub.status.idle": "2022-11-20T05:18:04.770210Z",
     "shell.execute_reply": "2022-11-20T05:18:04.769227Z"
    },
    "papermill": {
     "duration": 0.200532,
     "end_time": "2022-11-20T05:18:04.772669",
     "exception": false,
     "start_time": "2022-11-20T05:18:04.572137",
     "status": "completed"
    },
    "tags": []
   },
   "outputs": [],
   "source": [
    "X = train.drop(['isFraud'], axis = 1)\n",
    "del train"
   ]
  },
  {
   "cell_type": "code",
   "execution_count": 6,
   "id": "5ae5933d",
   "metadata": {
    "execution": {
     "iopub.execute_input": "2022-11-20T05:18:04.791825Z",
     "iopub.status.busy": "2022-11-20T05:18:04.791524Z",
     "iopub.status.idle": "2022-11-20T05:18:04.795433Z",
     "shell.execute_reply": "2022-11-20T05:18:04.794553Z"
    },
    "papermill": {
     "duration": 0.014909,
     "end_time": "2022-11-20T05:18:04.797381",
     "exception": false,
     "start_time": "2022-11-20T05:18:04.782472",
     "status": "completed"
    },
    "tags": []
   },
   "outputs": [],
   "source": [
    "# over = RandomOverSampler(sampling_strategy=0.25)\n",
    "# under = RandomUnderSampler(sampling_strategy=0.25)\n",
    "# X_over, y_over = over.fit_resample(X, y)\n"
   ]
  },
  {
   "cell_type": "code",
   "execution_count": 7,
   "id": "07892264",
   "metadata": {
    "execution": {
     "iopub.execute_input": "2022-11-20T05:18:04.805851Z",
     "iopub.status.busy": "2022-11-20T05:18:04.805593Z",
     "iopub.status.idle": "2022-11-20T05:18:04.809762Z",
     "shell.execute_reply": "2022-11-20T05:18:04.808761Z"
    },
    "papermill": {
     "duration": 0.010816,
     "end_time": "2022-11-20T05:18:04.811976",
     "exception": false,
     "start_time": "2022-11-20T05:18:04.801160",
     "status": "completed"
    },
    "tags": []
   },
   "outputs": [],
   "source": [
    "# X_f, y_f = under.fit_resample(X_over, y_over)"
   ]
  },
  {
   "cell_type": "markdown",
   "id": "099adb00",
   "metadata": {
    "papermill": {
     "duration": 0.003456,
     "end_time": "2022-11-20T05:18:04.819195",
     "exception": false,
     "start_time": "2022-11-20T05:18:04.815739",
     "status": "completed"
    },
    "tags": []
   },
   "source": [
    "## Hyperparamter Tuning"
   ]
  },
  {
   "cell_type": "code",
   "execution_count": 8,
   "id": "7cd6ceed",
   "metadata": {
    "execution": {
     "iopub.execute_input": "2022-11-20T05:18:04.827867Z",
     "iopub.status.busy": "2022-11-20T05:18:04.827615Z",
     "iopub.status.idle": "2022-11-20T05:18:04.832287Z",
     "shell.execute_reply": "2022-11-20T05:18:04.831503Z"
    },
    "papermill": {
     "duration": 0.011288,
     "end_time": "2022-11-20T05:18:04.834274",
     "exception": false,
     "start_time": "2022-11-20T05:18:04.822986",
     "status": "completed"
    },
    "tags": []
   },
   "outputs": [],
   "source": [
    "# X_train, X_test, y_train, y_test = train_test_split(X, y, test_size = 0.25, random_state = 42)"
   ]
  },
  {
   "cell_type": "code",
   "execution_count": 9,
   "id": "5b2680f1",
   "metadata": {
    "execution": {
     "iopub.execute_input": "2022-11-20T05:18:04.842572Z",
     "iopub.status.busy": "2022-11-20T05:18:04.842301Z",
     "iopub.status.idle": "2022-11-20T05:18:04.846154Z",
     "shell.execute_reply": "2022-11-20T05:18:04.845263Z"
    },
    "papermill": {
     "duration": 0.010271,
     "end_time": "2022-11-20T05:18:04.848208",
     "exception": false,
     "start_time": "2022-11-20T05:18:04.837937",
     "status": "completed"
    },
    "tags": []
   },
   "outputs": [],
   "source": [
    "# y_train.values.ravel().shape"
   ]
  },
  {
   "cell_type": "code",
   "execution_count": 10,
   "id": "02937068",
   "metadata": {
    "execution": {
     "iopub.execute_input": "2022-11-20T05:18:04.856651Z",
     "iopub.status.busy": "2022-11-20T05:18:04.856368Z",
     "iopub.status.idle": "2022-11-20T05:18:04.861218Z",
     "shell.execute_reply": "2022-11-20T05:18:04.860411Z"
    },
    "papermill": {
     "duration": 0.011389,
     "end_time": "2022-11-20T05:18:04.863268",
     "exception": false,
     "start_time": "2022-11-20T05:18:04.851879",
     "status": "completed"
    },
    "tags": []
   },
   "outputs": [],
   "source": [
    "# from sklearn.model_selection import RandomizedSearchCV\n",
    "# from sklearn.ensemble import RandomForestClassifier\n",
    "# clf = RandomForestClassifier(n_jobs= -1,class_weight='balanced')\n",
    "# estimators = [5, 10, 50, 100]\n",
    "# max_depth = [1, 5, 10, 15, 20]\n",
    "# param = {'n_estimators': estimators ,'max_depth':max_depth}\n",
    "# model = RandomizedSearchCV(estimator=clf,  param_distributions=param, cv=3, n_iter=6, scoring='roc_auc')\n",
    "# model.fit(X_train,y_train.values.ravel())"
   ]
  },
  {
   "cell_type": "code",
   "execution_count": 11,
   "id": "bd49d993",
   "metadata": {
    "execution": {
     "iopub.execute_input": "2022-11-20T05:18:04.871506Z",
     "iopub.status.busy": "2022-11-20T05:18:04.871236Z",
     "iopub.status.idle": "2022-11-20T05:18:04.876146Z",
     "shell.execute_reply": "2022-11-20T05:18:04.875322Z"
    },
    "papermill": {
     "duration": 0.011182,
     "end_time": "2022-11-20T05:18:04.878085",
     "exception": false,
     "start_time": "2022-11-20T05:18:04.866903",
     "status": "completed"
    },
    "tags": []
   },
   "outputs": [],
   "source": [
    "# model.best_params_"
   ]
  },
  {
   "cell_type": "code",
   "execution_count": 12,
   "id": "81885a76",
   "metadata": {
    "execution": {
     "iopub.execute_input": "2022-11-20T05:18:04.886256Z",
     "iopub.status.busy": "2022-11-20T05:18:04.885990Z",
     "iopub.status.idle": "2022-11-20T05:18:04.892264Z",
     "shell.execute_reply": "2022-11-20T05:18:04.891432Z"
    },
    "papermill": {
     "duration": 0.012512,
     "end_time": "2022-11-20T05:18:04.894157",
     "exception": false,
     "start_time": "2022-11-20T05:18:04.881645",
     "status": "completed"
    },
    "tags": []
   },
   "outputs": [],
   "source": [
    "pred_valid = np.zeros(X.shape[0])\n",
    "pred_test = np.zeros(test.shape[0])\n",
    "feature_importance_df = pd.DataFrame()\n",
    "cmx = []\n",
    "main_features = []\n",
    "roc_auc_scores = []"
   ]
  },
  {
   "cell_type": "code",
   "execution_count": 13,
   "id": "2f900166",
   "metadata": {
    "execution": {
     "iopub.execute_input": "2022-11-20T05:18:04.903212Z",
     "iopub.status.busy": "2022-11-20T05:18:04.902962Z",
     "iopub.status.idle": "2022-11-20T05:18:55.082821Z",
     "shell.execute_reply": "2022-11-20T05:18:55.081693Z"
    },
    "papermill": {
     "duration": 50.187238,
     "end_time": "2022-11-20T05:18:55.085923",
     "exception": false,
     "start_time": "2022-11-20T05:18:04.898685",
     "status": "completed"
    },
    "tags": []
   },
   "outputs": [
    {
     "name": "stdout",
     "output_type": "stream",
     "text": [
      "Fold  1 AUC : 0.892664\n",
      "Fold  2 AUC : 0.879230\n",
      "Fold  3 AUC : 0.884256\n",
      "Fold  4 AUC : 0.880539\n",
      "Fold  5 AUC : 0.886807\n",
      "Full AUC score 0.884420\n"
     ]
    }
   ],
   "source": [
    "from sklearn.model_selection import RandomizedSearchCV\n",
    "from sklearn.ensemble import RandomForestClassifier\n",
    "n_fold = 5\n",
    "folds = StratifiedKFold(n_splits=n_fold, shuffle = True)\n",
    "for fold_n, (train_index, valid_index) in enumerate(folds.split(X, y)):\n",
    "    \n",
    "    clf = RandomForestClassifier(max_depth=15,n_estimators=10)\n",
    "    X_train, X_valid = X.iloc[train_index], X.iloc[valid_index]\n",
    "    y_train, y_valid = y.iloc[train_index], y.iloc[valid_index]\n",
    "    clf.fit(X_train,y_train.values.ravel())\n",
    "    \n",
    "    pred_valid[valid_index] = clf.predict_proba(X_valid)[:, 1]\n",
    "    pred_test += clf.predict_proba(test)[:, 1] / folds.n_splits\n",
    "    roc_auc_scores.append(roc_auc_score(y_valid, pred_valid[valid_index]))\n",
    "    print('Fold %2d AUC : %.6f' % (fold_n + 1, roc_auc_score(y_valid, pred_valid[valid_index]))) \n",
    "    \n",
    "    # Confusion matrix\n",
    "    cmx.append(confusion_matrix(y_valid, pred_valid[valid_index].round()))\n",
    "    \n",
    "    # Features importance\n",
    "#     feature_imp = clf.feature_importances_(importance_type='gain')\n",
    "#     main_features.append(feature_imp)\n",
    "    \n",
    "\n",
    "\n",
    "print('Full AUC score %.6f' % roc_auc_score(y, pred_valid))\n",
    "\n"
   ]
  },
  {
   "cell_type": "code",
   "execution_count": 14,
   "id": "5a4564e4",
   "metadata": {
    "execution": {
     "iopub.execute_input": "2022-11-20T05:18:55.096163Z",
     "iopub.status.busy": "2022-11-20T05:18:55.095864Z",
     "iopub.status.idle": "2022-11-20T05:18:55.355490Z",
     "shell.execute_reply": "2022-11-20T05:18:55.354519Z"
    },
    "papermill": {
     "duration": 0.266749,
     "end_time": "2022-11-20T05:18:55.357630",
     "exception": false,
     "start_time": "2022-11-20T05:18:55.090881",
     "status": "completed"
    },
    "tags": []
   },
   "outputs": [
    {
     "data": {
      "image/png": "[encoded data removed]",
      "text/plain": [
       "<Figure size 432x288 with 2 Axes>"
      ]
     },
     "metadata": {
      "needs_background": "light"
     },
     "output_type": "display_data"
    }
   ],
   "source": [
    "conf_matrix = np.average(cmx, axis= 0)\n",
    "sns.heatmap(conf_matrix, annot=True, fmt='g')\n",
    "plt.show()\n"
   ]
  },
  {
   "cell_type": "code",
   "execution_count": 15,
   "id": "42580067",
   "metadata": {
    "execution": {
     "iopub.execute_input": "2022-11-20T05:18:55.367336Z",
     "iopub.status.busy": "2022-11-20T05:18:55.367061Z",
     "iopub.status.idle": "2022-11-20T05:18:55.725927Z",
     "shell.execute_reply": "2022-11-20T05:18:55.724655Z"
    },
    "papermill": {
     "duration": 0.366807,
     "end_time": "2022-11-20T05:18:55.728705",
     "exception": false,
     "start_time": "2022-11-20T05:18:55.361898",
     "status": "completed"
    },
    "tags": []
   },
   "outputs": [],
   "source": [
    "submit(pred_test)"
   ]
  }
 ],
 "metadata": {
  "kernelspec": {
   "display_name": "Python 3",
   "language": "python",
   "name": "python3"
  },
  "language_info": {
   "codemirror_mode": {
    "name": "ipython",
    "version": 3
   },
   "file_extension": ".py",
   "mimetype": "text/x-python",
   "name": "python",
   "nbconvert_exporter": "python",
   "pygments_lexer": "ipython3",
   "version": "3.7.12"
  },
  "papermill": {
   "default_parameters": {},
   "duration": 116.112833,
   "end_time": "2022-11-20T05:18:57.054970",
   "environment_variables": {},
   "exception": null,
   "input_path": "__notebook__.ipynb",
   "output_path": "__notebook__.ipynb",
   "parameters": {},
   "start_time": "2022-11-20T05:17:00.942137",
   "version": "2.3.4"
  }
 },
 "nbformat": 4,
 "nbformat_minor": 5
}
