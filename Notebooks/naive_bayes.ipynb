{
 "cells": [
  {
   "cell_type": "code",
   "execution_count": 1,
   "id": "56b2f22d",
   "metadata": {
    "_cell_guid": "b1076dfc-b9ad-4769-8c92-a6c4dae69d19",
    "_uuid": "8f2839f25d086af736a60e9eeb907d3b93b6e0e5",
    "execution": {
     "iopub.execute_input": "2022-11-20T05:20:53.603870Z",
     "iopub.status.busy": "2022-11-20T05:20:53.603414Z",
     "iopub.status.idle": "2022-11-20T05:20:59.083646Z",
     "shell.execute_reply": "2022-11-20T05:20:59.082483Z"
    },
    "papermill": {
     "duration": 5.489522,
     "end_time": "2022-11-20T05:20:59.087476",
     "exception": false,
     "start_time": "2022-11-20T05:20:53.597954",
     "status": "completed"
    },
    "tags": []
   },
   "outputs": [
    {
     "data": {
      "text/html": [
       "<style type='text/css'>\n",
       ".datatable table.frame { margin-bottom: 0; }\n",
       ".datatable table.frame thead { border-bottom: none; }\n",
       ".datatable table.frame tr.coltypes td {  color: #FFFFFF;  line-height: 6px;  padding: 0 0.5em;}\n",
       ".datatable .bool    { background: #DDDD99; }\n",
       ".datatable .object  { background: #565656; }\n",
       ".datatable .int     { background: #5D9E5D; }\n",
       ".datatable .float   { background: #4040CC; }\n",
       ".datatable .str     { background: #CC4040; }\n",
       ".datatable .time    { background: #40CC40; }\n",
       ".datatable .row_index {  background: var(--jp-border-color3);  border-right: 1px solid var(--jp-border-color0);  color: var(--jp-ui-font-color3);  font-size: 9px;}\n",
       ".datatable .frame tbody td { text-align: left; }\n",
       ".datatable .frame tr.coltypes .row_index {  background: var(--jp-border-color0);}\n",
       ".datatable th:nth-child(2) { padding-left: 12px; }\n",
       ".datatable .hellipsis {  color: var(--jp-cell-editor-border-color);}\n",
       ".datatable .vellipsis {  background: var(--jp-layout-color0);  color: var(--jp-cell-editor-border-color);}\n",
       ".datatable .na {  color: var(--jp-cell-editor-border-color);  font-size: 80%;}\n",
       ".datatable .sp {  opacity: 0.25;}\n",
       ".datatable .footer { font-size: 9px; }\n",
       ".datatable .frame_dimensions {  background: var(--jp-border-color3);  border-top: 1px solid var(--jp-border-color0);  color: var(--jp-ui-font-color3);  display: inline-block;  opacity: 0.6;  padding: 1px 10px 1px 5px;}\n",
       "</style>\n"
      ],
      "text/plain": [
       "<IPython.core.display.HTML object>"
      ]
     },
     "metadata": {},
     "output_type": "display_data"
    }
   ],
   "source": [
    "import numpy as np # linear algebra\n",
    "import pandas as pd # data processing, CSV file I/O (e.g. pd.read_csv)\n",
    "import matplotlib.pyplot as plt\n",
    "import seaborn as sns\n",
    "\n",
    "\n",
    "from sklearn import model_selection\n",
    "from sklearn.model_selection import train_test_split, StratifiedKFold\n",
    "from sklearn.linear_model import LogisticRegression\n",
    "from sklearn.ensemble import RandomForestClassifier\n",
    "from xgboost import XGBClassifier\n",
    "from lightgbm import LGBMClassifier\n",
    "from imblearn.over_sampling import RandomOverSampler\n",
    "from imblearn.under_sampling import RandomUnderSampler\n",
    "from sklearn.metrics import confusion_matrix,classification_report,accuracy_score,roc_auc_score, f1_score,plot_confusion_matrix,plot_roc_curve\n",
    "\n"
   ]
  },
  {
   "cell_type": "code",
   "execution_count": 2,
   "id": "07663c9a",
   "metadata": {
    "execution": {
     "iopub.execute_input": "2022-11-20T05:20:59.104390Z",
     "iopub.status.busy": "2022-11-20T05:20:59.103907Z",
     "iopub.status.idle": "2022-11-20T05:21:49.864399Z",
     "shell.execute_reply": "2022-11-20T05:21:49.863164Z"
    },
    "papermill": {
     "duration": 50.772086,
     "end_time": "2022-11-20T05:21:49.866758",
     "exception": false,
     "start_time": "2022-11-20T05:20:59.094672",
     "status": "completed"
    },
    "tags": []
   },
   "outputs": [],
   "source": [
    "import numpy as np \n",
    "import pandas as pd\n",
    "pd.set_option(\"display.max_rows\", None, \"display.max_columns\", None)\n",
    "\n",
    "train = pd.read_csv(\"../input/preprocessedfraud/train_preprocessed.csv\")\n",
    "test = pd.read_csv(\"../input/preprocessedfraud/test_preprocessed.csv\")"
   ]
  },
  {
   "cell_type": "code",
   "execution_count": 3,
   "id": "d4df668c",
   "metadata": {
    "execution": {
     "iopub.execute_input": "2022-11-20T05:21:49.875708Z",
     "iopub.status.busy": "2022-11-20T05:21:49.875035Z",
     "iopub.status.idle": "2022-11-20T05:21:49.880741Z",
     "shell.execute_reply": "2022-11-20T05:21:49.879898Z"
    },
    "papermill": {
     "duration": 0.012188,
     "end_time": "2022-11-20T05:21:49.882813",
     "exception": false,
     "start_time": "2022-11-20T05:21:49.870625",
     "status": "completed"
    },
    "tags": []
   },
   "outputs": [],
   "source": [
    "def submit(y_pred):\n",
    "    sample = pd.read_csv('../input/submissiontemplate/submission.csv')\n",
    "    sample.isFraud = y_pred\n",
    "    sub_name = 'submission.csv'\n",
    "    sample.to_csv(sub_name, index=False)"
   ]
  },
  {
   "cell_type": "code",
   "execution_count": 4,
   "id": "ced6e43c",
   "metadata": {
    "execution": {
     "iopub.execute_input": "2022-11-20T05:21:49.890793Z",
     "iopub.status.busy": "2022-11-20T05:21:49.890535Z",
     "iopub.status.idle": "2022-11-20T05:21:49.906323Z",
     "shell.execute_reply": "2022-11-20T05:21:49.905309Z"
    },
    "papermill": {
     "duration": 0.02206,
     "end_time": "2022-11-20T05:21:49.908299",
     "exception": false,
     "start_time": "2022-11-20T05:21:49.886239",
     "status": "completed"
    },
    "tags": []
   },
   "outputs": [],
   "source": [
    "y = train[['isFraud']]"
   ]
  },
  {
   "cell_type": "code",
   "execution_count": 5,
   "id": "4deedad5",
   "metadata": {
    "execution": {
     "iopub.execute_input": "2022-11-20T05:21:49.916289Z",
     "iopub.status.busy": "2022-11-20T05:21:49.915735Z",
     "iopub.status.idle": "2022-11-20T05:21:50.113288Z",
     "shell.execute_reply": "2022-11-20T05:21:50.112197Z"
    },
    "papermill": {
     "duration": 0.204056,
     "end_time": "2022-11-20T05:21:50.115761",
     "exception": false,
     "start_time": "2022-11-20T05:21:49.911705",
     "status": "completed"
    },
    "tags": []
   },
   "outputs": [],
   "source": [
    "X = train.drop(['isFraud'], axis = 1)\n",
    "del train"
   ]
  },
  {
   "cell_type": "markdown",
   "id": "c05b5b41",
   "metadata": {
    "papermill": {
     "duration": 0.003295,
     "end_time": "2022-11-20T05:21:50.122628",
     "exception": false,
     "start_time": "2022-11-20T05:21:50.119333",
     "status": "completed"
    },
    "tags": []
   },
   "source": [
    "### Over/Under Sampling"
   ]
  },
  {
   "cell_type": "code",
   "execution_count": 6,
   "id": "f5a9dbd1",
   "metadata": {
    "execution": {
     "iopub.execute_input": "2022-11-20T05:21:50.130631Z",
     "iopub.status.busy": "2022-11-20T05:21:50.130313Z",
     "iopub.status.idle": "2022-11-20T05:21:50.134671Z",
     "shell.execute_reply": "2022-11-20T05:21:50.133685Z"
    },
    "papermill": {
     "duration": 0.010903,
     "end_time": "2022-11-20T05:21:50.136865",
     "exception": false,
     "start_time": "2022-11-20T05:21:50.125962",
     "status": "completed"
    },
    "tags": []
   },
   "outputs": [],
   "source": [
    "# over = RandomOverSampler(sampling_strategy=0.25)\n",
    "# under = RandomUnderSampler(sampling_strategy=0.25)\n",
    "# X_over, y_over = over.fit_resample(X, y)\n"
   ]
  },
  {
   "cell_type": "code",
   "execution_count": 7,
   "id": "e89d6de7",
   "metadata": {
    "execution": {
     "iopub.execute_input": "2022-11-20T05:21:50.144719Z",
     "iopub.status.busy": "2022-11-20T05:21:50.144450Z",
     "iopub.status.idle": "2022-11-20T05:21:50.148702Z",
     "shell.execute_reply": "2022-11-20T05:21:50.147777Z"
    },
    "papermill": {
     "duration": 0.010678,
     "end_time": "2022-11-20T05:21:50.151051",
     "exception": false,
     "start_time": "2022-11-20T05:21:50.140373",
     "status": "completed"
    },
    "tags": []
   },
   "outputs": [],
   "source": [
    "# X_f, y_f = under.fit_resample(X_over, y_over)"
   ]
  },
  {
   "cell_type": "markdown",
   "id": "f7b03aff",
   "metadata": {
    "papermill": {
     "duration": 0.00297,
     "end_time": "2022-11-20T05:21:50.157239",
     "exception": false,
     "start_time": "2022-11-20T05:21:50.154269",
     "status": "completed"
    },
    "tags": []
   },
   "source": [
    "## Naive Bayes"
   ]
  },
  {
   "cell_type": "code",
   "execution_count": 8,
   "id": "5fca2009",
   "metadata": {
    "execution": {
     "iopub.execute_input": "2022-11-20T05:21:50.164748Z",
     "iopub.status.busy": "2022-11-20T05:21:50.164482Z",
     "iopub.status.idle": "2022-11-20T05:21:50.170718Z",
     "shell.execute_reply": "2022-11-20T05:21:50.169797Z"
    },
    "papermill": {
     "duration": 0.01224,
     "end_time": "2022-11-20T05:21:50.172812",
     "exception": false,
     "start_time": "2022-11-20T05:21:50.160572",
     "status": "completed"
    },
    "tags": []
   },
   "outputs": [],
   "source": [
    "pred_valid = np.zeros(X.shape[0])\n",
    "pred_test = np.zeros(test.shape[0])\n",
    "feature_importance_df = pd.DataFrame()\n",
    "cmx = []\n",
    "main_features = []\n",
    "roc_auc_scores = []"
   ]
  },
  {
   "cell_type": "code",
   "execution_count": 9,
   "id": "17283826",
   "metadata": {
    "execution": {
     "iopub.execute_input": "2022-11-20T05:21:50.180366Z",
     "iopub.status.busy": "2022-11-20T05:21:50.180106Z",
     "iopub.status.idle": "2022-11-20T05:22:01.702165Z",
     "shell.execute_reply": "2022-11-20T05:22:01.701052Z"
    },
    "papermill": {
     "duration": 11.529022,
     "end_time": "2022-11-20T05:22:01.705002",
     "exception": false,
     "start_time": "2022-11-20T05:21:50.175980",
     "status": "completed"
    },
    "tags": []
   },
   "outputs": [
    {
     "name": "stdout",
     "output_type": "stream",
     "text": [
      "Fold  1 AUC : 0.752401\n",
      "Fold  2 AUC : 0.754583\n",
      "Fold  3 AUC : 0.750962\n",
      "Fold  4 AUC : 0.757961\n",
      "Fold  5 AUC : 0.756276\n",
      "Full AUC score 0.749002\n"
     ]
    }
   ],
   "source": [
    "from sklearn.naive_bayes import GaussianNB\n",
    "n_fold = 5\n",
    "folds = StratifiedKFold(n_splits=n_fold, shuffle = True)\n",
    "for fold_n, (train_index, valid_index) in enumerate(folds.split(X, y)):\n",
    "    clf=GaussianNB()\n",
    "    X_train, X_valid = X.iloc[train_index], X.iloc[valid_index]\n",
    "    y_train, y_valid = y.iloc[train_index], y.iloc[valid_index]\n",
    "    clf.fit(X_train,y_train.values.ravel())\n",
    "    pred_valid[valid_index] = clf.predict_proba(X_valid)[:, 1]\n",
    "    pred_test += clf.predict_proba(test)[:, 1] / folds.n_splits\n",
    "    roc_auc_scores.append(roc_auc_score(y_valid, pred_valid[valid_index]))\n",
    "    print('Fold %2d AUC : %.6f' % (fold_n + 1, roc_auc_score(y_valid, pred_valid[valid_index]))) \n",
    "    \n",
    "    # Confusion matrix\n",
    "    cmx.append(confusion_matrix(y_valid, pred_valid[valid_index].round()))\n",
    "    \n",
    "    # Features importance\n",
    "#     feature_imp = clf.get_booster().get_score(importance_type='gain')\n",
    "#     main_features.append(feature_imp)\n",
    "    \n",
    "print('Full AUC score %.6f' % roc_auc_score(y, pred_valid))"
   ]
  },
  {
   "cell_type": "code",
   "execution_count": 10,
   "id": "8f13bca6",
   "metadata": {
    "execution": {
     "iopub.execute_input": "2022-11-20T05:22:01.714606Z",
     "iopub.status.busy": "2022-11-20T05:22:01.713712Z",
     "iopub.status.idle": "2022-11-20T05:22:01.984191Z",
     "shell.execute_reply": "2022-11-20T05:22:01.983328Z"
    },
    "papermill": {
     "duration": 0.277401,
     "end_time": "2022-11-20T05:22:01.986457",
     "exception": false,
     "start_time": "2022-11-20T05:22:01.709056",
     "status": "completed"
    },
    "tags": []
   },
   "outputs": [
    {
     "data": {
      "image/png": "[encoded data removed]",
      "text/plain": [
       "<Figure size 432x288 with 2 Axes>"
      ]
     },
     "metadata": {
      "needs_background": "light"
     },
     "output_type": "display_data"
    }
   ],
   "source": [
    "conf_matrix = np.average(cmx, axis= 0)\n",
    "sns.heatmap(conf_matrix, annot=True, fmt='g')\n",
    "plt.show()\n"
   ]
  },
  {
   "cell_type": "code",
   "execution_count": 11,
   "id": "857d62a5",
   "metadata": {
    "execution": {
     "iopub.execute_input": "2022-11-20T05:22:01.995132Z",
     "iopub.status.busy": "2022-11-20T05:22:01.994822Z",
     "iopub.status.idle": "2022-11-20T05:22:02.361609Z",
     "shell.execute_reply": "2022-11-20T05:22:02.360525Z"
    },
    "papermill": {
     "duration": 0.373697,
     "end_time": "2022-11-20T05:22:02.363966",
     "exception": false,
     "start_time": "2022-11-20T05:22:01.990269",
     "status": "completed"
    },
    "tags": []
   },
   "outputs": [],
   "source": [
    "submit(pred_test)"
   ]
  }
 ],
 "metadata": {
  "kernelspec": {
   "display_name": "Python 3",
   "language": "python",
   "name": "python3"
  },
  "language_info": {
   "codemirror_mode": {
    "name": "ipython",
    "version": 3
   },
   "file_extension": ".py",
   "mimetype": "text/x-python",
   "name": "python",
   "nbconvert_exporter": "python",
   "pygments_lexer": "ipython3",
   "version": "3.7.12"
  },
  "papermill": {
   "default_parameters": {},
   "duration": 81.05839,
   "end_time": "2022-11-20T05:22:03.589200",
   "environment_variables": {},
   "exception": null,
   "input_path": "__notebook__.ipynb",
   "output_path": "__notebook__.ipynb",
   "parameters": {},
   "start_time": "2022-11-20T05:20:42.530810",
   "version": "2.3.4"
  }
 },
 "nbformat": 4,
 "nbformat_minor": 5
}
