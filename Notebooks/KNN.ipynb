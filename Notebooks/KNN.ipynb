{
 "cells": [
  {
   "cell_type": "code",
   "execution_count": 1,
   "id": "82d1f8bd",
   "metadata": {
    "_cell_guid": "b1076dfc-b9ad-4769-8c92-a6c4dae69d19",
    "_uuid": "8f2839f25d086af736a60e9eeb907d3b93b6e0e5",
    "execution": {
     "iopub.execute_input": "2022-11-20T05:30:06.737917Z",
     "iopub.status.busy": "2022-11-20T05:30:06.737470Z",
     "iopub.status.idle": "2022-11-20T05:30:12.114739Z",
     "shell.execute_reply": "2022-11-20T05:30:12.113708Z"
    },
    "papermill": {
     "duration": 5.3862,
     "end_time": "2022-11-20T05:30:12.117487",
     "exception": false,
     "start_time": "2022-11-20T05:30:06.731287",
     "status": "completed"
    },
    "tags": []
   },
   "outputs": [
    {
     "data": {
      "text/html": [
       "<style type='text/css'>\n",
       ".datatable table.frame { margin-bottom: 0; }\n",
       ".datatable table.frame thead { border-bottom: none; }\n",
       ".datatable table.frame tr.coltypes td {  color: #FFFFFF;  line-height: 6px;  padding: 0 0.5em;}\n",
       ".datatable .bool    { background: #DDDD99; }\n",
       ".datatable .object  { background: #565656; }\n",
       ".datatable .int     { background: #5D9E5D; }\n",
       ".datatable .float   { background: #4040CC; }\n",
       ".datatable .str     { background: #CC4040; }\n",
       ".datatable .time    { background: #40CC40; }\n",
       ".datatable .row_index {  background: var(--jp-border-color3);  border-right: 1px solid var(--jp-border-color0);  color: var(--jp-ui-font-color3);  font-size: 9px;}\n",
       ".datatable .frame tbody td { text-align: left; }\n",
       ".datatable .frame tr.coltypes .row_index {  background: var(--jp-border-color0);}\n",
       ".datatable th:nth-child(2) { padding-left: 12px; }\n",
       ".datatable .hellipsis {  color: var(--jp-cell-editor-border-color);}\n",
       ".datatable .vellipsis {  background: var(--jp-layout-color0);  color: var(--jp-cell-editor-border-color);}\n",
       ".datatable .na {  color: var(--jp-cell-editor-border-color);  font-size: 80%;}\n",
       ".datatable .sp {  opacity: 0.25;}\n",
       ".datatable .footer { font-size: 9px; }\n",
       ".datatable .frame_dimensions {  background: var(--jp-border-color3);  border-top: 1px solid var(--jp-border-color0);  color: var(--jp-ui-font-color3);  display: inline-block;  opacity: 0.6;  padding: 1px 10px 1px 5px;}\n",
       "</style>\n"
      ],
      "text/plain": [
       "<IPython.core.display.HTML object>"
      ]
     },
     "metadata": {},
     "output_type": "display_data"
    }
   ],
   "source": [
    "import numpy as np # linear algebra\n",
    "import pandas as pd # data processing, CSV file I/O (e.g. pd.read_csv)\n",
    "import matplotlib.pyplot as plt\n",
    "import seaborn as sns\n",
    "\n",
    "\n",
    "from sklearn import model_selection\n",
    "from sklearn.model_selection import train_test_split, StratifiedKFold\n",
    "from sklearn.linear_model import LogisticRegression\n",
    "from sklearn.ensemble import RandomForestClassifier\n",
    "from xgboost import XGBClassifier\n",
    "from lightgbm import LGBMClassifier\n",
    "from imblearn.over_sampling import RandomOverSampler\n",
    "from imblearn.under_sampling import RandomUnderSampler\n",
    "from sklearn.metrics import confusion_matrix,classification_report,accuracy_score,roc_auc_score, f1_score,plot_confusion_matrix,plot_roc_curve\n",
    "\n"
   ]
  },
  {
   "cell_type": "code",
   "execution_count": 2,
   "id": "e02968da",
   "metadata": {
    "execution": {
     "iopub.execute_input": "2022-11-20T05:30:12.129365Z",
     "iopub.status.busy": "2022-11-20T05:30:12.129028Z",
     "iopub.status.idle": "2022-11-20T05:30:55.831296Z",
     "shell.execute_reply": "2022-11-20T05:30:55.830284Z"
    },
    "papermill": {
     "duration": 43.711124,
     "end_time": "2022-11-20T05:30:55.833752",
     "exception": false,
     "start_time": "2022-11-20T05:30:12.122628",
     "status": "completed"
    },
    "tags": []
   },
   "outputs": [],
   "source": [
    "import numpy as np \n",
    "import pandas as pd\n",
    "pd.set_option(\"display.max_rows\", None, \"display.max_columns\", None)\n",
    "\n",
    "train = pd.read_csv(\"../input/preprocessedfraud/train_preprocessed.csv\")\n",
    "test = pd.read_csv(\"../input/preprocessedfraud/test_preprocessed.csv\")"
   ]
  },
  {
   "cell_type": "code",
   "execution_count": 3,
   "id": "ab7fa761",
   "metadata": {
    "execution": {
     "iopub.execute_input": "2022-11-20T05:30:55.844685Z",
     "iopub.status.busy": "2022-11-20T05:30:55.843225Z",
     "iopub.status.idle": "2022-11-20T05:30:55.849256Z",
     "shell.execute_reply": "2022-11-20T05:30:55.848431Z"
    },
    "papermill": {
     "duration": 0.012972,
     "end_time": "2022-11-20T05:30:55.851172",
     "exception": false,
     "start_time": "2022-11-20T05:30:55.838200",
     "status": "completed"
    },
    "tags": []
   },
   "outputs": [],
   "source": [
    "def submit(y_pred):\n",
    "    sample = pd.read_csv('../input/submissiontemplate/submission.csv')\n",
    "    sample.isFraud = y_pred\n",
    "    sub_name = 'submission.csv'\n",
    "    sample.to_csv(sub_name, index=False)"
   ]
  },
  {
   "cell_type": "code",
   "execution_count": 4,
   "id": "16c61503",
   "metadata": {
    "execution": {
     "iopub.execute_input": "2022-11-20T05:30:55.861272Z",
     "iopub.status.busy": "2022-11-20T05:30:55.859917Z",
     "iopub.status.idle": "2022-11-20T05:30:55.873355Z",
     "shell.execute_reply": "2022-11-20T05:30:55.872529Z"
    },
    "papermill": {
     "duration": 0.020115,
     "end_time": "2022-11-20T05:30:55.875233",
     "exception": false,
     "start_time": "2022-11-20T05:30:55.855118",
     "status": "completed"
    },
    "tags": []
   },
   "outputs": [],
   "source": [
    "y = train[['isFraud']]"
   ]
  },
  {
   "cell_type": "code",
   "execution_count": 5,
   "id": "d536a674",
   "metadata": {
    "execution": {
     "iopub.execute_input": "2022-11-20T05:30:55.885237Z",
     "iopub.status.busy": "2022-11-20T05:30:55.883861Z",
     "iopub.status.idle": "2022-11-20T05:30:56.078719Z",
     "shell.execute_reply": "2022-11-20T05:30:56.077725Z"
    },
    "papermill": {
     "duration": 0.202222,
     "end_time": "2022-11-20T05:30:56.081347",
     "exception": false,
     "start_time": "2022-11-20T05:30:55.879125",
     "status": "completed"
    },
    "tags": []
   },
   "outputs": [],
   "source": [
    "X = train.drop(['isFraud'], axis = 1)\n",
    "del train"
   ]
  },
  {
   "cell_type": "markdown",
   "id": "4d0d48b0",
   "metadata": {
    "papermill": {
     "duration": 0.003852,
     "end_time": "2022-11-20T05:30:56.089596",
     "exception": false,
     "start_time": "2022-11-20T05:30:56.085744",
     "status": "completed"
    },
    "tags": []
   },
   "source": [
    "### Under/Over Sampling"
   ]
  },
  {
   "cell_type": "code",
   "execution_count": 6,
   "id": "1a84ad84",
   "metadata": {
    "execution": {
     "iopub.execute_input": "2022-11-20T05:30:56.098642Z",
     "iopub.status.busy": "2022-11-20T05:30:56.098327Z",
     "iopub.status.idle": "2022-11-20T05:30:56.102378Z",
     "shell.execute_reply": "2022-11-20T05:30:56.101378Z"
    },
    "papermill": {
     "duration": 0.01123,
     "end_time": "2022-11-20T05:30:56.104704",
     "exception": false,
     "start_time": "2022-11-20T05:30:56.093474",
     "status": "completed"
    },
    "tags": []
   },
   "outputs": [],
   "source": [
    "# over = RandomOverSampler(sampling_strategy=0.25)\n",
    "# under = RandomUnderSampler(sampling_strategy=0.25)\n",
    "# X_over, y_over = over.fit_resample(X, y)\n"
   ]
  },
  {
   "cell_type": "code",
   "execution_count": 7,
   "id": "bb5f9473",
   "metadata": {
    "execution": {
     "iopub.execute_input": "2022-11-20T05:30:56.113701Z",
     "iopub.status.busy": "2022-11-20T05:30:56.113442Z",
     "iopub.status.idle": "2022-11-20T05:30:56.117609Z",
     "shell.execute_reply": "2022-11-20T05:30:56.116686Z"
    },
    "papermill": {
     "duration": 0.010924,
     "end_time": "2022-11-20T05:30:56.119685",
     "exception": false,
     "start_time": "2022-11-20T05:30:56.108761",
     "status": "completed"
    },
    "tags": []
   },
   "outputs": [],
   "source": [
    "# X_f, y_f = under.fit_resample(X_over, y_over)"
   ]
  },
  {
   "cell_type": "markdown",
   "id": "2525bcff",
   "metadata": {
    "papermill": {
     "duration": 0.003669,
     "end_time": "2022-11-20T05:30:56.127169",
     "exception": false,
     "start_time": "2022-11-20T05:30:56.123500",
     "status": "completed"
    },
    "tags": []
   },
   "source": [
    "## Hyperparamter Tuning"
   ]
  },
  {
   "cell_type": "code",
   "execution_count": 8,
   "id": "272db1e8",
   "metadata": {
    "execution": {
     "iopub.execute_input": "2022-11-20T05:30:56.136108Z",
     "iopub.status.busy": "2022-11-20T05:30:56.135822Z",
     "iopub.status.idle": "2022-11-20T05:30:56.793897Z",
     "shell.execute_reply": "2022-11-20T05:30:56.792938Z"
    },
    "papermill": {
     "duration": 0.665366,
     "end_time": "2022-11-20T05:30:56.796555",
     "exception": false,
     "start_time": "2022-11-20T05:30:56.131189",
     "status": "completed"
    },
    "tags": []
   },
   "outputs": [],
   "source": [
    "X_train, X_test, y_train, y_test = train_test_split(X, y, test_size = 0.25, random_state = 42)"
   ]
  },
  {
   "cell_type": "code",
   "execution_count": 9,
   "id": "b1232f2c",
   "metadata": {
    "execution": {
     "iopub.execute_input": "2022-11-20T05:30:56.806265Z",
     "iopub.status.busy": "2022-11-20T05:30:56.805956Z",
     "iopub.status.idle": "2022-11-20T05:30:56.811902Z",
     "shell.execute_reply": "2022-11-20T05:30:56.811039Z"
    },
    "papermill": {
     "duration": 0.013022,
     "end_time": "2022-11-20T05:30:56.813939",
     "exception": false,
     "start_time": "2022-11-20T05:30:56.800917",
     "status": "completed"
    },
    "tags": []
   },
   "outputs": [
    {
     "data": {
      "text/plain": [
       "(332178,)"
      ]
     },
     "execution_count": 9,
     "metadata": {},
     "output_type": "execute_result"
    }
   ],
   "source": [
    "y_train.values.ravel().shape"
   ]
  },
  {
   "cell_type": "code",
   "execution_count": 10,
   "id": "40b42b7e",
   "metadata": {
    "execution": {
     "iopub.execute_input": "2022-11-20T05:30:56.822824Z",
     "iopub.status.busy": "2022-11-20T05:30:56.822558Z",
     "iopub.status.idle": "2022-11-20T05:30:56.826557Z",
     "shell.execute_reply": "2022-11-20T05:30:56.825616Z"
    },
    "papermill": {
     "duration": 0.010773,
     "end_time": "2022-11-20T05:30:56.828672",
     "exception": false,
     "start_time": "2022-11-20T05:30:56.817899",
     "status": "completed"
    },
    "tags": []
   },
   "outputs": [],
   "source": [
    "# from sklearn.model_selection import RandomizedSearchCV\n",
    "# from sklearn.neighbors import KNeighborsClassifier\n",
    "# clf=KNeighborsClassifier()\n",
    "    \n",
    "# neighbors = [5,10]\n",
    "# n_jobs = [1,-1]\n",
    "# param = {'n_neighbors': neighbors ,'n_jobs':n_jobs }\n",
    "# model = RandomizedSearchCV(estimator=clf,  param_distributions=param, verbose=1,cv=3, n_iter=4, scoring='roc_auc')\n",
    "# model.fit(X_train,y_train.values.ravel())"
   ]
  },
  {
   "cell_type": "code",
   "execution_count": 11,
   "id": "ca9dc264",
   "metadata": {
    "execution": {
     "iopub.execute_input": "2022-11-20T05:30:56.837510Z",
     "iopub.status.busy": "2022-11-20T05:30:56.837246Z",
     "iopub.status.idle": "2022-11-20T05:30:56.841192Z",
     "shell.execute_reply": "2022-11-20T05:30:56.840222Z"
    },
    "papermill": {
     "duration": 0.010765,
     "end_time": "2022-11-20T05:30:56.843356",
     "exception": false,
     "start_time": "2022-11-20T05:30:56.832591",
     "status": "completed"
    },
    "tags": []
   },
   "outputs": [],
   "source": [
    "# model.best_params_"
   ]
  },
  {
   "cell_type": "markdown",
   "id": "3182c557",
   "metadata": {
    "papermill": {
     "duration": 0.003749,
     "end_time": "2022-11-20T05:30:56.851965",
     "exception": false,
     "start_time": "2022-11-20T05:30:56.848216",
     "status": "completed"
    },
    "tags": []
   },
   "source": [
    "## KNN"
   ]
  },
  {
   "cell_type": "code",
   "execution_count": 12,
   "id": "865ad269",
   "metadata": {
    "execution": {
     "iopub.execute_input": "2022-11-20T05:30:56.860762Z",
     "iopub.status.busy": "2022-11-20T05:30:56.860510Z",
     "iopub.status.idle": "2022-11-20T05:30:56.864390Z",
     "shell.execute_reply": "2022-11-20T05:30:56.863404Z"
    },
    "papermill": {
     "duration": 0.010862,
     "end_time": "2022-11-20T05:30:56.866690",
     "exception": false,
     "start_time": "2022-11-20T05:30:56.855828",
     "status": "completed"
    },
    "tags": []
   },
   "outputs": [],
   "source": [
    "# pred_valid = np.zeros(X.shape[0])\n",
    "# pred_test = np.zeros(test.shape[0])\n",
    "# feature_importance_df = pd.DataFrame()\n",
    "# cmx = []\n",
    "# main_features = []\n",
    "# roc_auc_scores = []"
   ]
  },
  {
   "cell_type": "code",
   "execution_count": 13,
   "id": "0fa69e14",
   "metadata": {
    "execution": {
     "iopub.execute_input": "2022-11-20T05:30:56.875608Z",
     "iopub.status.busy": "2022-11-20T05:30:56.875365Z",
     "iopub.status.idle": "2022-11-20T05:30:56.879738Z",
     "shell.execute_reply": "2022-11-20T05:30:56.878771Z"
    },
    "papermill": {
     "duration": 0.011321,
     "end_time": "2022-11-20T05:30:56.882025",
     "exception": false,
     "start_time": "2022-11-20T05:30:56.870704",
     "status": "completed"
    },
    "tags": []
   },
   "outputs": [],
   "source": [
    "# n_fold = 5\n",
    "# folds = StratifiedKFold(n_splits=n_fold, shuffle = True)\n",
    "# for fold_n, (train_index, valid_index) in enumerate(folds.split(X, y)):\n",
    "#     clf=KNeighborsClassifier(n_neighbors=32)\n",
    "    \n",
    "#     X_train, X_valid = X.iloc[train_index], X.iloc[valid_index]\n",
    "#     y_train, y_valid = y.iloc[train_index], y.iloc[valid_index]\n",
    "#     clf.fit(X_train,y_train)\n",
    "#     pred_valid[valid_index] = clf.predict_proba(X_valid)[:, 1]\n",
    "#     pred_test += clf.predict_proba(test)[:, 1] / folds.n_splits\n",
    "#     roc_auc_scores.append(roc_auc_score(y_valid, pred_valid[valid_index]))\n",
    "#     print('Fold %2d AUC : %.6f' % (fold_n + 1, roc_auc_score(y_valid, pred_valid[valid_index]))) \n",
    "    \n",
    "#     # Confusion matrix\n",
    "#     cmx.append(confusion_matrix(y_valid, pred_valid[valid_index].round()))\n",
    "    \n",
    "#     # Features importance\n",
    "# #     feature_imp = clf.get_booster().get_score(importance_type='gain')\n",
    "# #     main_features.append(feature_imp)\n",
    "    \n",
    "# print('Full AUC score %.6f' % roc_auc_score(y, pred_valid))"
   ]
  },
  {
   "cell_type": "code",
   "execution_count": 14,
   "id": "ae639a6c",
   "metadata": {
    "execution": {
     "iopub.execute_input": "2022-11-20T05:30:56.891031Z",
     "iopub.status.busy": "2022-11-20T05:30:56.890773Z",
     "iopub.status.idle": "2022-11-20T05:30:56.895196Z",
     "shell.execute_reply": "2022-11-20T05:30:56.894433Z"
    },
    "papermill": {
     "duration": 0.011275,
     "end_time": "2022-11-20T05:30:56.897138",
     "exception": false,
     "start_time": "2022-11-20T05:30:56.885863",
     "status": "completed"
    },
    "tags": []
   },
   "outputs": [],
   "source": [
    "# conf_matrix = np.average(cmx, axis= 0)\n",
    "# sns.heatmap(conf_matrix, annot=True, fmt='g')\n",
    "# plt.show()\n"
   ]
  },
  {
   "cell_type": "code",
   "execution_count": 15,
   "id": "9c8ec5f1",
   "metadata": {
    "execution": {
     "iopub.execute_input": "2022-11-20T05:30:56.905856Z",
     "iopub.status.busy": "2022-11-20T05:30:56.905600Z",
     "iopub.status.idle": "2022-11-20T05:30:56.910646Z",
     "shell.execute_reply": "2022-11-20T05:30:56.909753Z"
    },
    "papermill": {
     "duration": 0.011513,
     "end_time": "2022-11-20T05:30:56.912566",
     "exception": false,
     "start_time": "2022-11-20T05:30:56.901053",
     "status": "completed"
    },
    "tags": []
   },
   "outputs": [],
   "source": [
    "# submit(pred_test)"
   ]
  }
 ],
 "metadata": {
  "kernelspec": {
   "display_name": "Python 3",
   "language": "python",
   "name": "python3"
  },
  "language_info": {
   "codemirror_mode": {
    "name": "ipython",
    "version": 3
   },
   "file_extension": ".py",
   "mimetype": "text/x-python",
   "name": "python",
   "nbconvert_exporter": "python",
   "pygments_lexer": "ipython3",
   "version": "3.7.12"
  },
  "papermill": {
   "default_parameters": {},
   "duration": 63.12424,
   "end_time": "2022-11-20T05:30:59.213678",
   "environment_variables": {},
   "exception": null,
   "input_path": "__notebook__.ipynb",
   "output_path": "__notebook__.ipynb",
   "parameters": {},
   "start_time": "2022-11-20T05:29:56.089438",
   "version": "2.3.4"
  }
 },
 "nbformat": 4,
 "nbformat_minor": 5
}
