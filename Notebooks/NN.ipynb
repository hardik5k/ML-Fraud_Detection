{
 "cells": [
  {
   "cell_type": "code",
   "execution_count": 1,
   "id": "e7bb3059",
   "metadata": {
    "_cell_guid": "b1076dfc-b9ad-4769-8c92-a6c4dae69d19",
    "_uuid": "8f2839f25d086af736a60e9eeb907d3b93b6e0e5",
    "execution": {
     "iopub.execute_input": "2022-12-12T05:32:11.244704Z",
     "iopub.status.busy": "2022-12-12T05:32:11.244184Z",
     "iopub.status.idle": "2022-12-12T05:32:22.186312Z",
     "shell.execute_reply": "2022-12-12T05:32:22.185022Z"
    },
    "papermill": {
     "duration": 10.954676,
     "end_time": "2022-12-12T05:32:22.189544",
     "exception": false,
     "start_time": "2022-12-12T05:32:11.234868",
     "status": "completed"
    },
    "tags": []
   },
   "outputs": [
    {
     "data": {
      "text/html": [
       "<style type='text/css'>\n",
       ".datatable table.frame { margin-bottom: 0; }\n",
       ".datatable table.frame thead { border-bottom: none; }\n",
       ".datatable table.frame tr.coltypes td {  color: #FFFFFF;  line-height: 6px;  padding: 0 0.5em;}\n",
       ".datatable .bool    { background: #DDDD99; }\n",
       ".datatable .object  { background: #565656; }\n",
       ".datatable .int     { background: #5D9E5D; }\n",
       ".datatable .float   { background: #4040CC; }\n",
       ".datatable .str     { background: #CC4040; }\n",
       ".datatable .time    { background: #40CC40; }\n",
       ".datatable .row_index {  background: var(--jp-border-color3);  border-right: 1px solid var(--jp-border-color0);  color: var(--jp-ui-font-color3);  font-size: 9px;}\n",
       ".datatable .frame tbody td { text-align: left; }\n",
       ".datatable .frame tr.coltypes .row_index {  background: var(--jp-border-color0);}\n",
       ".datatable th:nth-child(2) { padding-left: 12px; }\n",
       ".datatable .hellipsis {  color: var(--jp-cell-editor-border-color);}\n",
       ".datatable .vellipsis {  background: var(--jp-layout-color0);  color: var(--jp-cell-editor-border-color);}\n",
       ".datatable .na {  color: var(--jp-cell-editor-border-color);  font-size: 80%;}\n",
       ".datatable .sp {  opacity: 0.25;}\n",
       ".datatable .footer { font-size: 9px; }\n",
       ".datatable .frame_dimensions {  background: var(--jp-border-color3);  border-top: 1px solid var(--jp-border-color0);  color: var(--jp-ui-font-color3);  display: inline-block;  opacity: 0.6;  padding: 1px 10px 1px 5px;}\n",
       ".datatable .frame thead tr.colnames {  background-image: url('data:image/png;base64,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');  background-repeat: repeat-x;  background-size: 14px;  height: 28px;}\n",
       "</style>\n"
      ],
      "text/plain": [
       "<IPython.core.display.HTML object>"
      ]
     },
     "metadata": {},
     "output_type": "display_data"
    }
   ],
   "source": [
    "import numpy as np # linear algebra\n",
    "import pandas as pd # data processing, CSV file I/O (e.g. pd.read_csv)\n",
    "import matplotlib.pyplot as plt\n",
    "import seaborn as sns\n",
    "\n",
    "\n",
    "from sklearn import model_selection\n",
    "from sklearn.model_selection import train_test_split, StratifiedKFold\n",
    "from sklearn.linear_model import LogisticRegression\n",
    "from sklearn.ensemble import RandomForestClassifier\n",
    "from xgboost import XGBClassifier\n",
    "from lightgbm import LGBMClassifier\n",
    "from imblearn.over_sampling import RandomOverSampler\n",
    "from imblearn.under_sampling import RandomUnderSampler\n",
    "from sklearn.metrics import confusion_matrix,classification_report,accuracy_score,roc_auc_score, f1_score,plot_confusion_matrix,plot_roc_curve\n",
    "\n",
    "from tensorflow import keras\n",
    "from keras.models import Sequential\n",
    "from keras.layers import Dense\n",
    "from keras import optimizers\n",
    "import torch\n",
    "import torch.nn as nn\n",
    "import torch.optim as optim\n",
    "from torch.utils.data import Dataset, DataLoader"
   ]
  },
  {
   "cell_type": "code",
   "execution_count": 2,
   "id": "121753e9",
   "metadata": {
    "execution": {
     "iopub.execute_input": "2022-12-12T05:32:22.206191Z",
     "iopub.status.busy": "2022-12-12T05:32:22.205492Z",
     "iopub.status.idle": "2022-12-12T05:33:06.132122Z",
     "shell.execute_reply": "2022-12-12T05:33:06.131164Z"
    },
    "papermill": {
     "duration": 43.937638,
     "end_time": "2022-12-12T05:33:06.134786",
     "exception": false,
     "start_time": "2022-12-12T05:32:22.197148",
     "status": "completed"
    },
    "tags": []
   },
   "outputs": [],
   "source": [
    "import numpy as np \n",
    "import pandas as pd\n",
    "pd.set_option(\"display.max_rows\", None, \"display.max_columns\", None)\n",
    "\n",
    "train = pd.read_csv(\"../input/preprocessedfraud/train_preprocessed.csv\")\n",
    "test = pd.read_csv(\"../input/preprocessedfraud/test_preprocessed.csv\")\n",
   ]
  },
  {
   "cell_type": "code",
   "execution_count": 3,
   "id": "4922857c",
   "metadata": {
    "execution": {
     "iopub.execute_input": "2022-12-12T05:33:06.149823Z",
     "iopub.status.busy": "2022-12-12T05:33:06.148239Z",
     "iopub.status.idle": "2022-12-12T05:33:06.156234Z",
     "shell.execute_reply": "2022-12-12T05:33:06.155250Z"
    },
    "papermill": {
     "duration": 0.017247,
     "end_time": "2022-12-12T05:33:06.158476",
     "exception": false,
     "start_time": "2022-12-12T05:33:06.141229",
     "status": "completed"
    },
    "tags": []
   },
   "outputs": [
    {
     "data": {
      "text/plain": [
       "((442905, 185), (147635, 184))"
      ]
     },
     "execution_count": 3,
     "metadata": {},
     "output_type": "execute_result"
    }
   ],
   "source": [
    "train.shape, test.shape"
   ]
  },
  {
   "cell_type": "code",
   "execution_count": 4,
   "id": "95031e07",
   "metadata": {
    "execution": {
     "iopub.execute_input": "2022-12-12T05:33:06.171808Z",
     "iopub.status.busy": "2022-12-12T05:33:06.171533Z",
     "iopub.status.idle": "2022-12-12T05:33:06.176210Z",
     "shell.execute_reply": "2022-12-12T05:33:06.175252Z"
    },
    "papermill": {
     "duration": 0.013831,
     "end_time": "2022-12-12T05:33:06.178402",
     "exception": false,
     "start_time": "2022-12-12T05:33:06.164571",
     "status": "completed"
    },
    "tags": []
   },
   "outputs": [],
   "source": [
    "def submit(y_pred):\n",
    "    sample = pd.read_csv('../input/submissiontemplate/submission.csv')\n",
    "    sample.isFraud = y_pred\n",
    "    sub_name = 'submission.csv'\n",
    "    sample.to_csv(sub_name, index=False)"
   ]
  },
  {
   "cell_type": "code",
   "execution_count": 5,
   "id": "941c763d",
   "metadata": {
    "execution": {
     "iopub.execute_input": "2022-12-12T05:33:06.192040Z",
     "iopub.status.busy": "2022-12-12T05:33:06.191770Z",
     "iopub.status.idle": "2022-12-12T05:33:06.196078Z",
     "shell.execute_reply": "2022-12-12T05:33:06.195053Z"
    },
    "papermill": {
     "duration": 0.013869,
     "end_time": "2022-12-12T05:33:06.198356",
     "exception": false,
     "start_time": "2022-12-12T05:33:06.184487",
     "status": "completed"
    },
    "tags": []
   },
   "outputs": [],
   "source": [
    "# from sklearn.preprocessing import LabelEncoder\n",
    "# le = LabelEncoder()\n",
    "# label_encoding = train.select_dtypes(include=['O', 'category']).columns\n",
    "# train[label_encoding] = train[label_encoding].apply(le.fit_transform)\n",
    "# test[label_encoding] = test[label_encoding].apply(le.fit_transform)"
   ]
  },
  {
   "cell_type": "code",
   "execution_count": 6,
   "id": "26d6368e",
   "metadata": {
    "execution": {
     "iopub.execute_input": "2022-12-12T05:33:06.211613Z",
     "iopub.status.busy": "2022-12-12T05:33:06.211328Z",
     "iopub.status.idle": "2022-12-12T05:33:06.223310Z",
     "shell.execute_reply": "2022-12-12T05:33:06.222321Z"
    },
    "papermill": {
     "duration": 0.020966,
     "end_time": "2022-12-12T05:33:06.225401",
     "exception": false,
     "start_time": "2022-12-12T05:33:06.204435",
     "status": "completed"
    },
    "tags": []
   },
   "outputs": [],
   "source": [
    "y = train[['isFraud']]"
   ]
  },
  {
   "cell_type": "code",
   "execution_count": 7,
   "id": "5629a45e",
   "metadata": {
    "execution": {
     "iopub.execute_input": "2022-12-12T05:33:06.239735Z",
     "iopub.status.busy": "2022-12-12T05:33:06.238228Z",
     "iopub.status.idle": "2022-12-12T05:33:06.439115Z",
     "shell.execute_reply": "2022-12-12T05:33:06.438036Z"
    },
    "papermill": {
     "duration": 0.210215,
     "end_time": "2022-12-12T05:33:06.441604",
     "exception": false,
     "start_time": "2022-12-12T05:33:06.231389",
     "status": "completed"
    },
    "tags": []
   },
   "outputs": [],
   "source": [
    "X = train.drop(['isFraud'], axis = 1)\n",
    "del train\n"
   ]
  },
  {
   "cell_type": "code",
   "execution_count": 8,
   "id": "4bbae9fa",
   "metadata": {
    "execution": {
     "iopub.execute_input": "2022-12-12T05:33:06.456555Z",
     "iopub.status.busy": "2022-12-12T05:33:06.455760Z",
     "iopub.status.idle": "2022-12-12T05:33:07.147618Z",
     "shell.execute_reply": "2022-12-12T05:33:07.146532Z"
    },
    "papermill": {
     "duration": 0.702137,
     "end_time": "2022-12-12T05:33:07.150253",
     "exception": false,
     "start_time": "2022-12-12T05:33:06.448116",
     "status": "completed"
    },
    "tags": []
   },
   "outputs": [],
   "source": [
    "X_train, X_val, y_train, y_val = train_test_split(X, y, test_size = 0.25, random_state = 42)"
   ]
  },
  {
   "cell_type": "code",
   "execution_count": 9,
   "id": "1eed8df1",
   "metadata": {
    "execution": {
     "iopub.execute_input": "2022-12-12T05:33:07.166472Z",
     "iopub.status.busy": "2022-12-12T05:33:07.164761Z",
     "iopub.status.idle": "2022-12-12T05:33:07.370937Z",
     "shell.execute_reply": "2022-12-12T05:33:07.369878Z"
    },
    "papermill": {
     "duration": 0.216682,
     "end_time": "2022-12-12T05:33:07.373551",
     "exception": false,
     "start_time": "2022-12-12T05:33:07.156869",
     "status": "completed"
    },
    "tags": []
   },
   "outputs": [],
   "source": [
    "X_train=X_train.to_numpy()\n",
    "y_train=y_train.to_numpy()\n",
    "X_val=X_val.to_numpy()\n",
    "y_val=y_val.to_numpy()"
   ]
  },
  {
   "cell_type": "code",
   "execution_count": 10,
   "id": "28ca2f37",
   "metadata": {
    "execution": {
     "iopub.execute_input": "2022-12-12T05:33:07.388665Z",
     "iopub.status.busy": "2022-12-12T05:33:07.388335Z",
     "iopub.status.idle": "2022-12-12T05:33:07.393330Z",
     "shell.execute_reply": "2022-12-12T05:33:07.392269Z"
    },
    "papermill": {
     "duration": 0.014406,
     "end_time": "2022-12-12T05:33:07.395508",
     "exception": false,
     "start_time": "2022-12-12T05:33:07.381102",
     "status": "completed"
    },
    "tags": []
   },
   "outputs": [],
   "source": [
    "y_train = y_train.ravel()\n",
    "y_val = y_val.ravel()"
   ]
  },
  {
   "cell_type": "code",
   "execution_count": 11,
   "id": "6674a81d",
   "metadata": {
    "execution": {
     "iopub.execute_input": "2022-12-12T05:33:07.409058Z",
     "iopub.status.busy": "2022-12-12T05:33:07.408721Z",
     "iopub.status.idle": "2022-12-12T05:33:07.415672Z",
     "shell.execute_reply": "2022-12-12T05:33:07.414610Z"
    },
    "papermill": {
     "duration": 0.01759,
     "end_time": "2022-12-12T05:33:07.419196",
     "exception": false,
     "start_time": "2022-12-12T05:33:07.401606",
     "status": "completed"
    },
    "tags": []
   },
   "outputs": [
    {
     "data": {
      "text/plain": [
       "array([0, 0, 0, ..., 0, 0, 0])"
      ]
     },
     "execution_count": 11,
     "metadata": {},
     "output_type": "execute_result"
    }
   ],
   "source": [
    "y_train"
   ]
  },
  {
   "cell_type": "markdown",
   "id": "33d2c0f7",
   "metadata": {
    "papermill": {
     "duration": 0.00624,
     "end_time": "2022-12-12T05:33:07.432039",
     "exception": false,
     "start_time": "2022-12-12T05:33:07.425799",
     "status": "completed"
    },
    "tags": []
   },
   "source": [
    "## Hyperparamter Tuning"
   ]
  },
  {
   "cell_type": "code",
   "execution_count": 12,
   "id": "3c8765ef",
   "metadata": {
    "execution": {
     "iopub.execute_input": "2022-12-12T05:33:07.445906Z",
     "iopub.status.busy": "2022-12-12T05:33:07.445619Z",
     "iopub.status.idle": "2022-12-12T05:33:07.451117Z",
     "shell.execute_reply": "2022-12-12T05:33:07.450274Z"
    },
    "papermill": {
     "duration": 0.015005,
     "end_time": "2022-12-12T05:33:07.453227",
     "exception": false,
     "start_time": "2022-12-12T05:33:07.438222",
     "status": "completed"
    },
    "tags": []
   },
   "outputs": [],
   "source": [
    "batch_size = 128\n",
    "input_dim = X_train.shape[1]\n",
    "output_dim = 2"
   ]
  },
  {
   "cell_type": "code",
   "execution_count": 13,
   "id": "e4333b53",
   "metadata": {
    "execution": {
     "iopub.execute_input": "2022-12-12T05:33:07.466666Z",
     "iopub.status.busy": "2022-12-12T05:33:07.466400Z",
     "iopub.status.idle": "2022-12-12T05:33:07.472866Z",
     "shell.execute_reply": "2022-12-12T05:33:07.471217Z"
    },
    "papermill": {
     "duration": 0.015724,
     "end_time": "2022-12-12T05:33:07.475181",
     "exception": false,
     "start_time": "2022-12-12T05:33:07.459457",
     "status": "completed"
    },
    "tags": []
   },
   "outputs": [],
   "source": [
    "class Data(Dataset):\n",
    "    def __init__(self, x_train, y_train):\n",
    "        self.x=torch.from_numpy(x_train)\n",
    "        self.y=torch.from_numpy(y_train)\n",
    "        self.len=self.x.shape[0]\n",
    "    def __getitem__(self,index):      \n",
    "        return self.x[index], self.y[index]\n",
    "    def __len__(self):\n",
    "        return self.len"
   ]
  },
  {
   "cell_type": "code",
   "execution_count": 14,
   "id": "3f8fcd92",
   "metadata": {
    "execution": {
     "iopub.execute_input": "2022-12-12T05:33:07.489867Z",
     "iopub.status.busy": "2022-12-12T05:33:07.488917Z",
     "iopub.status.idle": "2022-12-12T05:33:07.494629Z",
     "shell.execute_reply": "2022-12-12T05:33:07.493570Z"
    },
    "papermill": {
     "duration": 0.015285,
     "end_time": "2022-12-12T05:33:07.496838",
     "exception": false,
     "start_time": "2022-12-12T05:33:07.481553",
     "status": "completed"
    },
    "tags": []
   },
   "outputs": [],
   "source": [
    "train_ds = Data(X_train, y_train)\n",
    "val_ds = Data(X_val, y_val)\n",
    "\n",
    "train_loader = DataLoader(train_ds, batch_size)\n",
    "val_loader = DataLoader(val_ds, batch_size * 2)"
   ]
  },
  {
   "cell_type": "code",
   "execution_count": 15,
   "id": "1ae8dfdc",
   "metadata": {
    "execution": {
     "iopub.execute_input": "2022-12-12T05:33:07.510540Z",
     "iopub.status.busy": "2022-12-12T05:33:07.510241Z",
     "iopub.status.idle": "2022-12-12T05:33:07.515831Z",
     "shell.execute_reply": "2022-12-12T05:33:07.514952Z"
    },
    "papermill": {
     "duration": 0.01469,
     "end_time": "2022-12-12T05:33:07.517849",
     "exception": false,
     "start_time": "2022-12-12T05:33:07.503159",
     "status": "completed"
    },
    "tags": []
   },
   "outputs": [],
   "source": [
    "def get_default_device():\n",
    "    if torch.cuda.is_available():\n",
    "        return torch.device('cuda')\n",
    "    else:\n",
    "        return torch.device('cpu')"
   ]
  },
  {
   "cell_type": "code",
   "execution_count": 16,
   "id": "226d8d81",
   "metadata": {
    "execution": {
     "iopub.execute_input": "2022-12-12T05:33:07.531310Z",
     "iopub.status.busy": "2022-12-12T05:33:07.531003Z",
     "iopub.status.idle": "2022-12-12T05:33:07.655626Z",
     "shell.execute_reply": "2022-12-12T05:33:07.654609Z"
    },
    "papermill": {
     "duration": 0.133762,
     "end_time": "2022-12-12T05:33:07.657853",
     "exception": false,
     "start_time": "2022-12-12T05:33:07.524091",
     "status": "completed"
    },
    "tags": []
   },
   "outputs": [],
   "source": [
    "device = get_default_device()"
   ]
  },
  {
   "cell_type": "code",
   "execution_count": 17,
   "id": "d1dc4b5d",
   "metadata": {
    "execution": {
     "iopub.execute_input": "2022-12-12T05:33:07.673478Z",
     "iopub.status.busy": "2022-12-12T05:33:07.671802Z",
     "iopub.status.idle": "2022-12-12T05:33:07.678042Z",
     "shell.execute_reply": "2022-12-12T05:33:07.677410Z"
    },
    "papermill": {
     "duration": 0.01541,
     "end_time": "2022-12-12T05:33:07.680001",
     "exception": false,
     "start_time": "2022-12-12T05:33:07.664591",
     "status": "completed"
    },
    "tags": []
   },
   "outputs": [],
   "source": [
    "def to_device(data, device):\n",
    "    if isinstance(data, (list,tuple)):\n",
    "        return [to_device(x, device) for x in data]\n",
    "    return data.to(device, non_blocking=True)"
   ]
  },
  {
   "cell_type": "code",
   "execution_count": 18,
   "id": "14853c6f",
   "metadata": {
    "execution": {
     "iopub.execute_input": "2022-12-12T05:33:07.694182Z",
     "iopub.status.busy": "2022-12-12T05:33:07.693320Z",
     "iopub.status.idle": "2022-12-12T05:33:07.699323Z",
     "shell.execute_reply": "2022-12-12T05:33:07.698292Z"
    },
    "papermill": {
     "duration": 0.015594,
     "end_time": "2022-12-12T05:33:07.701593",
     "exception": false,
     "start_time": "2022-12-12T05:33:07.685999",
     "status": "completed"
    },
    "tags": []
   },
   "outputs": [],
   "source": [
    "class DeviceDataLoader():\n",
    "    def __init__(self, dl, device):\n",
    "        self.dl = dl\n",
    "        self.device = device\n",
    "        \n",
    "    def __iter__(self):\n",
    "        for b in self.dl: \n",
    "            yield to_device(b, self.device)\n",
    "\n",
    "    def __len__(self):\n",
    "        return len(self.dl)"
   ]
  },
  {
   "cell_type": "code",
   "execution_count": 19,
   "id": "d444f862",
   "metadata": {
    "execution": {
     "iopub.execute_input": "2022-12-12T05:33:07.715874Z",
     "iopub.status.busy": "2022-12-12T05:33:07.715592Z",
     "iopub.status.idle": "2022-12-12T05:33:07.720456Z",
     "shell.execute_reply": "2022-12-12T05:33:07.719331Z"
    },
    "papermill": {
     "duration": 0.014905,
     "end_time": "2022-12-12T05:33:07.723024",
     "exception": false,
     "start_time": "2022-12-12T05:33:07.708119",
     "status": "completed"
    },
    "tags": []
   },
   "outputs": [],
   "source": [
    "train_loader = DeviceDataLoader(train_loader, device)\n",
    "val_loader = DeviceDataLoader(val_loader, device)"
   ]
  },
  {
   "cell_type": "code",
   "execution_count": 20,
   "id": "d69778e6",
   "metadata": {
    "execution": {
     "iopub.execute_input": "2022-12-12T05:33:07.737348Z",
     "iopub.status.busy": "2022-12-12T05:33:07.736697Z",
     "iopub.status.idle": "2022-12-12T05:33:07.742136Z",
     "shell.execute_reply": "2022-12-12T05:33:07.741298Z"
    },
    "papermill": {
     "duration": 0.014983,
     "end_time": "2022-12-12T05:33:07.744311",
     "exception": false,
     "start_time": "2022-12-12T05:33:07.729328",
     "status": "completed"
    },
    "tags": []
   },
   "outputs": [],
   "source": [
    "def accuracy(y_p, y):\n",
    "    _, preds = torch.max(y_p, dim=1)\n",
    "   # print(y_p)\n",
    "    return torch.tensor(torch.sum(preds == y).item() / len(preds))\n",
    "#     return roc_auc_score(y, preds)"
   ]
  },
  {
   "cell_type": "code",
   "execution_count": 21,
   "id": "65bc2f69",
   "metadata": {
    "execution": {
     "iopub.execute_input": "2022-12-12T05:33:07.758864Z",
     "iopub.status.busy": "2022-12-12T05:33:07.757894Z",
     "iopub.status.idle": "2022-12-12T05:33:07.768685Z",
     "shell.execute_reply": "2022-12-12T05:33:07.767783Z"
    },
    "papermill": {
     "duration": 0.019962,
     "end_time": "2022-12-12T05:33:07.770780",
     "exception": false,
     "start_time": "2022-12-12T05:33:07.750818",
     "status": "completed"
    },
    "tags": []
   },
   "outputs": [],
   "source": [
    "class Net(nn.Module):\n",
    "    \n",
    "    def validation_step(self, batch):\n",
    "        images, labels = batch \n",
    "        out = self(images.float())                    # Generate predictions\n",
    "        loss = nn.functional.cross_entropy(out, labels)   # Calculate loss\n",
    "        acc = accuracy(out, labels)           # Calculate accuracy\n",
    "        return {'val_loss': loss, 'val_acc': acc}\n",
    "        \n",
    "    def validation_epoch_end(self, outputs):\n",
    "        batch_losses = [x['val_loss'] for x in outputs]\n",
    "        epoch_loss = torch.stack(batch_losses).mean()   # Combine losses\n",
    "        batch_accs = [x['val_acc'] for x in outputs]\n",
    "        epoch_acc = torch.stack(batch_accs).mean()      # Combine accuracies\n",
    "        return {'val_loss': epoch_loss.item(), 'val_acc': epoch_acc.item()}\n",
    "    def epoch_end(self, epoch, result):\n",
    "        print(\"Epoch [{}], val_loss: {:.4f}, val_acc: {:.4f}\".format(epoch, result['val_loss'], result['val_acc']))\n",
    "        \n",
    "    def __init__(self, input_size, output_size):\n",
    "        super(Net, self).__init__()\n",
    "        self.linear1 = nn.Linear(input_size, 256)\n",
    "        self.linear2 = nn.Linear(256, 128)\n",
    "        self.linear3 = nn.Linear(128, output_size)\n",
    "        \n",
    "    def forward(self, x):\n",
    "        out = nn.functional.relu(self.linear1(x))\n",
    "        out = nn.functional.relu(self.linear2(out))\n",
    "#         out = nn.functional.relu(self.linear3(out))\n",
    "#         out = nn.functional.relu(self.linear4(out))\n",
    "# #         out = nn.functional.relu(self.linear5(out))\n",
    "        out = self.linear3(out)\n",
    "        \n",
    "        return out"
   ]
  },
  {
   "cell_type": "code",
   "execution_count": 22,
   "id": "19e4895e",
   "metadata": {
    "execution": {
     "iopub.execute_input": "2022-12-12T05:33:07.784566Z",
     "iopub.status.busy": "2022-12-12T05:33:07.784272Z",
     "iopub.status.idle": "2022-12-12T05:33:07.788588Z",
     "shell.execute_reply": "2022-12-12T05:33:07.787542Z"
    },
    "papermill": {
     "duration": 0.013711,
     "end_time": "2022-12-12T05:33:07.790728",
     "exception": false,
     "start_time": "2022-12-12T05:33:07.777017",
     "status": "completed"
    },
    "tags": []
   },
   "outputs": [],
   "source": [
    "def evaluate(model, val_loader):\n",
    "    outputs = [model.validation_step(batch) for batch in val_loader]\n",
    "    return model.validation_epoch_end(outputs)"
   ]
  },
  {
   "cell_type": "code",
   "execution_count": 23,
   "id": "fa59d9c2",
   "metadata": {
    "execution": {
     "iopub.execute_input": "2022-12-12T05:33:07.805312Z",
     "iopub.status.busy": "2022-12-12T05:33:07.804406Z",
     "iopub.status.idle": "2022-12-12T05:33:07.811329Z",
     "shell.execute_reply": "2022-12-12T05:33:07.810422Z"
    },
    "papermill": {
     "duration": 0.016324,
     "end_time": "2022-12-12T05:33:07.813527",
     "exception": false,
     "start_time": "2022-12-12T05:33:07.797203",
     "status": "completed"
    },
    "tags": []
   },
   "outputs": [],
   "source": [
    "def fit(train_loader, val_loader, model, lr, epochs):\n",
    "    loss_history = []\n",
    "    optimizer = torch.optim.SGD(model.parameters(), lr)\n",
    "    for epoch in range(epochs):\n",
    "        for x, y in train_loader:\n",
    "            optimizer.zero_grad()\n",
    "            z = model(x.float())\n",
    "            loss = nn.functional.cross_entropy(z, y)\n",
    "            loss.backward()\n",
    "            optimizer.step()\n",
    "            \n",
    "        result = evaluate(model, val_loader)\n",
    "        model.epoch_end(epoch, result)\n",
    "        loss_history.append(result)\n",
    "    return loss_history"
   ]
  },
  {
   "cell_type": "code",
   "execution_count": 24,
   "id": "39994b14",
   "metadata": {
    "execution": {
     "iopub.execute_input": "2022-12-12T05:33:07.827398Z",
     "iopub.status.busy": "2022-12-12T05:33:07.826580Z",
     "iopub.status.idle": "2022-12-12T05:33:12.912132Z",
     "shell.execute_reply": "2022-12-12T05:33:12.911102Z"
    },
    "papermill": {
     "duration": 5.095446,
     "end_time": "2022-12-12T05:33:12.915042",
     "exception": false,
     "start_time": "2022-12-12T05:33:07.819596",
     "status": "completed"
    },
    "tags": []
   },
   "outputs": [],
   "source": [
    "model = to_device(Net(input_dim, output_dim), device)"
   ]
  },
  {
   "cell_type": "code",
   "execution_count": 25,
   "id": "6bd5ccd8",
   "metadata": {
    "execution": {
     "iopub.execute_input": "2022-12-12T05:33:12.930895Z",
     "iopub.status.busy": "2022-12-12T05:33:12.929029Z",
     "iopub.status.idle": "2022-12-12T05:38:55.991717Z",
     "shell.execute_reply": "2022-12-12T05:38:55.990647Z"
    },
    "papermill": {
     "duration": 343.08263,
     "end_time": "2022-12-12T05:38:56.004146",
     "exception": false,
     "start_time": "2022-12-12T05:33:12.921516",
     "status": "completed"
    },
    "tags": []
   },
   "outputs": [
    {
     "name": "stdout",
     "output_type": "stream",
     "text": [
      "Epoch [0], val_loss: 0.1514, val_acc: 0.9655\n",
      "Epoch [1], val_loss: 0.1514, val_acc: 0.9655\n",
      "Epoch [2], val_loss: 0.1514, val_acc: 0.9655\n",
      "Epoch [3], val_loss: 0.1514, val_acc: 0.9655\n",
      "Epoch [4], val_loss: 0.1514, val_acc: 0.9655\n",
      "Epoch [5], val_loss: 0.1514, val_acc: 0.9655\n",
      "Epoch [6], val_loss: 0.1514, val_acc: 0.9655\n",
      "Epoch [7], val_loss: 0.1514, val_acc: 0.9655\n",
      "Epoch [8], val_loss: 0.1514, val_acc: 0.9655\n",
      "Epoch [9], val_loss: 0.1514, val_acc: 0.9655\n",
      "Epoch [10], val_loss: 0.1514, val_acc: 0.9655\n",
      "Epoch [11], val_loss: 0.1514, val_acc: 0.9655\n",
      "Epoch [12], val_loss: 0.1514, val_acc: 0.9655\n",
      "Epoch [13], val_loss: 0.1514, val_acc: 0.9655\n",
      "Epoch [14], val_loss: 0.1514, val_acc: 0.9655\n",
      "Epoch [15], val_loss: 0.1514, val_acc: 0.9655\n",
      "Epoch [16], val_loss: 0.1514, val_acc: 0.9655\n",
      "Epoch [17], val_loss: 0.1514, val_acc: 0.9655\n",
      "Epoch [18], val_loss: 0.1514, val_acc: 0.9655\n",
      "Epoch [19], val_loss: 0.1514, val_acc: 0.9655\n",
      "Epoch [20], val_loss: 0.1514, val_acc: 0.9655\n",
      "Epoch [21], val_loss: 0.1514, val_acc: 0.9655\n",
      "Epoch [22], val_loss: 0.1514, val_acc: 0.9655\n",
      "Epoch [23], val_loss: 0.1514, val_acc: 0.9655\n",
      "Epoch [24], val_loss: 0.1514, val_acc: 0.9655\n",
      "Epoch [25], val_loss: 0.1514, val_acc: 0.9655\n",
      "Epoch [26], val_loss: 0.1514, val_acc: 0.9655\n",
      "Epoch [27], val_loss: 0.1514, val_acc: 0.9655\n",
      "Epoch [28], val_loss: 0.1514, val_acc: 0.9655\n",
      "Epoch [29], val_loss: 0.1514, val_acc: 0.9655\n",
      "Epoch [30], val_loss: 0.1514, val_acc: 0.9655\n",
      "Epoch [31], val_loss: 0.1514, val_acc: 0.9655\n",
      "Epoch [32], val_loss: 0.1514, val_acc: 0.9655\n",
      "Epoch [33], val_loss: 0.1514, val_acc: 0.9655\n",
      "Epoch [34], val_loss: 0.1514, val_acc: 0.9655\n",
      "Epoch [35], val_loss: 0.1514, val_acc: 0.9655\n",
      "Epoch [36], val_loss: 0.1514, val_acc: 0.9655\n",
      "Epoch [37], val_loss: 0.1514, val_acc: 0.9655\n",
      "Epoch [38], val_loss: 0.1514, val_acc: 0.9655\n",
      "Epoch [39], val_loss: 0.1514, val_acc: 0.9655\n",
      "Epoch [40], val_loss: 0.1514, val_acc: 0.9655\n",
      "Epoch [41], val_loss: 0.1514, val_acc: 0.9655\n",
      "Epoch [42], val_loss: 0.1514, val_acc: 0.9655\n",
      "Epoch [43], val_loss: 0.1514, val_acc: 0.9655\n",
      "Epoch [44], val_loss: 0.1514, val_acc: 0.9655\n",
      "Epoch [45], val_loss: 0.1514, val_acc: 0.9655\n",
      "Epoch [46], val_loss: 0.1514, val_acc: 0.9655\n",
      "Epoch [47], val_loss: 0.1514, val_acc: 0.9655\n",
      "Epoch [48], val_loss: 0.1514, val_acc: 0.9655\n",
      "Epoch [49], val_loss: 0.1514, val_acc: 0.9655\n"
     ]
    },
    {
     "data": {
      "text/plain": [
       "[{'val_loss': 0.15139682590961456, 'val_acc': 0.9654637575149536},\n",
       " {'val_loss': 0.15139682590961456, 'val_acc': 0.9654637575149536},\n",
       " {'val_loss': 0.15139682590961456, 'val_acc': 0.9654637575149536},\n",
       " {'val_loss': 0.15139681100845337, 'val_acc': 0.9654637575149536},\n",
       " {'val_loss': 0.15139678120613098, 'val_acc': 0.9654637575149536},\n",
       " {'val_loss': 0.1513967663049698, 'val_acc': 0.9654637575149536},\n",
       " {'val_loss': 0.1513967663049698, 'val_acc': 0.9654637575149536},\n",
       " {'val_loss': 0.1513967663049698, 'val_acc': 0.9654637575149536},\n",
       " {'val_loss': 0.1513967663049698, 'val_acc': 0.9654637575149536},\n",
       " {'val_loss': 0.1513967514038086, 'val_acc': 0.9654637575149536},\n",
       " {'val_loss': 0.1513967514038086, 'val_acc': 0.9654637575149536},\n",
       " {'val_loss': 0.1513967365026474, 'val_acc': 0.9654637575149536},\n",
       " {'val_loss': 0.1513967514038086, 'val_acc': 0.9654637575149536},\n",
       " {'val_loss': 0.1513967365026474, 'val_acc': 0.9654637575149536},\n",
       " {'val_loss': 0.1513967216014862, 'val_acc': 0.9654637575149536},\n",
       " {'val_loss': 0.151396706700325, 'val_acc': 0.9654637575149536},\n",
       " {'val_loss': 0.1513967216014862, 'val_acc': 0.9654637575149536},\n",
       " {'val_loss': 0.151396706700325, 'val_acc': 0.9654637575149536},\n",
       " {'val_loss': 0.15139685571193695, 'val_acc': 0.9654637575149536},\n",
       " {'val_loss': 0.15139682590961456, 'val_acc': 0.9654637575149536},\n",
       " {'val_loss': 0.15139684081077576, 'val_acc': 0.9654637575149536},\n",
       " {'val_loss': 0.15139682590961456, 'val_acc': 0.9654637575149536},\n",
       " {'val_loss': 0.15139682590961456, 'val_acc': 0.9654637575149536},\n",
       " {'val_loss': 0.15139678120613098, 'val_acc': 0.9654637575149536},\n",
       " {'val_loss': 0.15139678120613098, 'val_acc': 0.9654637575149536},\n",
       " {'val_loss': 0.15139678120613098, 'val_acc': 0.9654637575149536},\n",
       " {'val_loss': 0.1513967663049698, 'val_acc': 0.9654637575149536},\n",
       " {'val_loss': 0.1513967663049698, 'val_acc': 0.9654637575149536},\n",
       " {'val_loss': 0.1513967663049698, 'val_acc': 0.9654637575149536},\n",
       " {'val_loss': 0.1513967514038086, 'val_acc': 0.9654637575149536},\n",
       " {'val_loss': 0.1513967514038086, 'val_acc': 0.9654637575149536},\n",
       " {'val_loss': 0.1513967514038086, 'val_acc': 0.9654637575149536},\n",
       " {'val_loss': 0.1513967216014862, 'val_acc': 0.9654637575149536},\n",
       " {'val_loss': 0.1513967216014862, 'val_acc': 0.9654637575149536},\n",
       " {'val_loss': 0.1513967216014862, 'val_acc': 0.9654637575149536},\n",
       " {'val_loss': 0.15139682590961456, 'val_acc': 0.9654637575149536},\n",
       " {'val_loss': 0.1513967216014862, 'val_acc': 0.9654637575149536},\n",
       " {'val_loss': 0.15139682590961456, 'val_acc': 0.9654637575149536},\n",
       " {'val_loss': 0.15139682590961456, 'val_acc': 0.9654637575149536},\n",
       " {'val_loss': 0.15139678120613098, 'val_acc': 0.9654637575149536},\n",
       " {'val_loss': 0.15139678120613098, 'val_acc': 0.9654637575149536},\n",
       " {'val_loss': 0.1513967663049698, 'val_acc': 0.9654637575149536},\n",
       " {'val_loss': 0.1513967663049698, 'val_acc': 0.9654637575149536},\n",
       " {'val_loss': 0.1513967663049698, 'val_acc': 0.9654637575149536},\n",
       " {'val_loss': 0.1513967514038086, 'val_acc': 0.9654637575149536},\n",
       " {'val_loss': 0.1513967514038086, 'val_acc': 0.9654637575149536},\n",
       " {'val_loss': 0.1513967365026474, 'val_acc': 0.9654637575149536},\n",
       " {'val_loss': 0.1513967216014862, 'val_acc': 0.9654637575149536},\n",
       " {'val_loss': 0.1513967216014862, 'val_acc': 0.9654637575149536},\n",
       " {'val_loss': 0.1513967216014862, 'val_acc': 0.9654637575149536}]"
      ]
     },
     "execution_count": 25,
     "metadata": {},
     "output_type": "execute_result"
    }
   ],
   "source": [
    "fit(train_loader, val_loader, model, 0.001, 50)"
   ]
  },
  {
   "cell_type": "code",
   "execution_count": 26,
   "id": "67ef2803",
   "metadata": {
    "execution": {
     "iopub.execute_input": "2022-12-12T05:38:56.024034Z",
     "iopub.status.busy": "2022-12-12T05:38:56.023705Z",
     "iopub.status.idle": "2022-12-12T05:38:56.028408Z",
     "shell.execute_reply": "2022-12-12T05:38:56.027225Z"
    },
    "papermill": {
     "duration": 0.017179,
     "end_time": "2022-12-12T05:38:56.030789",
     "exception": false,
     "start_time": "2022-12-12T05:38:56.013610",
     "status": "completed"
    },
    "tags": []
   },
   "outputs": [],
   "source": [
    "\n",
    "# submit(pred_test)"
   ]
  }
 ],
 "metadata": {
  "kernelspec": {
   "display_name": "Python 3",
   "language": "python",
   "name": "python3"
  },
  "language_info": {
   "codemirror_mode": {
    "name": "ipython",
    "version": 3
   },
   "file_extension": ".py",
   "mimetype": "text/x-python",
   "name": "python",
   "nbconvert_exporter": "python",
   "pygments_lexer": "ipython3",
   "version": "3.7.12"
  },
  "papermill": {
   "default_parameters": {},
   "duration": 417.733438,
   "end_time": "2022-12-12T05:38:59.772898",
   "environment_variables": {},
   "exception": null,
   "input_path": "__notebook__.ipynb",
   "output_path": "__notebook__.ipynb",
   "parameters": {},
   "start_time": "2022-12-12T05:32:02.039460",
   "version": "2.3.4"
  }
 },
 "nbformat": 4,
 "nbformat_minor": 5
}
